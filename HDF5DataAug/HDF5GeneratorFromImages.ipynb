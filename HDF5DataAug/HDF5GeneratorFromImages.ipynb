{
 "cells": [
  {
   "cell_type": "code",
   "execution_count": 1,
   "metadata": {},
   "outputs": [],
   "source": [
    "from random import shuffle\n",
    "import glob\n",
    "\n",
    "shuffle_data = True  # shuffle the addresses"
   ]
  },
  {
   "cell_type": "code",
   "execution_count": 5,
   "metadata": {},
   "outputs": [],
   "source": [
    "hdf5_path = 'catsdogs.hdf5'  # file path for the created .hdf5 file\n",
    "\n",
    "cat_dog_train_path = 'train/*.jpg' # the original data path\n"
   ]
  },
  {
   "cell_type": "code",
   "execution_count": 6,
   "metadata": {},
   "outputs": [],
   "source": [
    "addrs = glob.glob(cat_dog_train_path)\n",
    "\n",
    "labels = [0 if 'cat' in addr else 1 for addr in addrs]"
   ]
  },
  {
   "cell_type": "code",
   "execution_count": 7,
   "metadata": {},
   "outputs": [],
   "source": [
    "if shuffle_data:\n",
    "    c = list(zip(addrs, labels))  # use zip() to bind the images and labels together\n",
    "    shuffle(c)\n",
    "\n",
    "    (addrs, labels) = zip(*c)  # *c is used to separate all the tuples in the list c,\n",
    "    # \"addrs\" then contains all the shuffled paths and\n",
    "    # \"labels\" contains all the shuffled labels."
   ]
  },
  {
   "cell_type": "code",
   "execution_count": 8,
   "metadata": {},
   "outputs": [],
   "source": [
    "# Divide the data into 80% for train and 20% for test\n",
    "train_addrs = addrs[0:int(0.8 * len(addrs))]\n",
    "train_labels = labels[0:int(0.8 * len(labels))]\n",
    "\n",
    "test_addrs = addrs[int(0.8 * len(addrs)):]\n",
    "test_labels = labels[int(0.8 * len(labels)):]"
   ]
  },
  {
   "cell_type": "code",
   "execution_count": 9,
   "metadata": {},
   "outputs": [],
   "source": [
    "##################### second part: create the h5py object #####################\n",
    "import numpy as np\n",
    "import h5py\n",
    "\n",
    "train_shape = (len(train_addrs), 128, 128, 3)\n",
    "test_shape = (len(test_addrs), 128, 128, 3)\n",
    "\n",
    "# open a hdf5 file and create earrays\n",
    "f = h5py.File(hdf5_path, mode='w')\n",
    "\n",
    "# PIL.Image: the pixels range is 0-255,dtype is uint.\n",
    "# matplotlib: the pixels range is 0-1,dtype is float.\n",
    "f.create_dataset(\"train_img\", train_shape, np.uint8)\n",
    "f.create_dataset(\"test_img\", test_shape, np.uint8)\n",
    "\n",
    "# the \".create_dataset\" object is like a dictionary, the \"train_labels\" is the key.\n",
    "f.create_dataset(\"train_labels\", (len(train_addrs),), np.uint8)\n",
    "f[\"train_labels\"][...] = train_labels\n",
    "\n",
    "f.create_dataset(\"test_labels\", (len(test_addrs),), np.uint8)\n",
    "f[\"test_labels\"][...] = test_labels"
   ]
  },
  {
   "cell_type": "code",
   "execution_count": 10,
   "metadata": {},
   "outputs": [],
   "source": [
    "######################## third part: write the images #########################\n",
    "import cv2\n",
    "\n",
    "# loop over train paths\n",
    "for i in range(len(train_addrs)):\n",
    "\n",
    "    if i % 1000 == 0 and i > 1:\n",
    "        print('Train data: {}/{}'.format(i, len(train_addrs)))\n",
    "\n",
    "    addr = train_addrs[i]\n",
    "    img = cv2.imread(addr)\n",
    "    img = cv2.resize(img, (128, 128), interpolation=cv2.INTER_CUBIC)  # resize to (128,128)\n",
    "    img = cv2.cvtColor(img, cv2.COLOR_BGR2RGB)  # cv2 load images as BGR, convert it to RGB\n",
    "    f[\"train_img\"][i, ...] = img[None]\n",
    "\n",
    "# loop over test paths\n",
    "for i in range(len(test_addrs)):\n",
    "\n",
    "    if i % 1000 == 0 and i > 1:\n",
    "        print('Test data: {}/{}'.format(i, len(test_addrs)))\n",
    "\n",
    "    addr = test_addrs[i]\n",
    "    img = cv2.imread(addr)\n",
    "    img = cv2.resize(img, (128, 128), interpolation=cv2.INTER_CUBIC)\n",
    "    img = cv2.cvtColor(img, cv2.COLOR_BGR2RGB)\n",
    "    f[\"test_img\"][i, ...] = img[None]\n",
    "\n",
    "f.close()"
   ]
  },
  {
   "cell_type": "code",
   "execution_count": null,
   "metadata": {},
   "outputs": [],
   "source": []
  }
 ],
 "metadata": {
  "kernelspec": {
   "display_name": "kerasCPU3",
   "language": "python",
   "name": "kerascpu3"
  },
  "language_info": {
   "codemirror_mode": {
    "name": "ipython",
    "version": 3
   },
   "file_extension": ".py",
   "mimetype": "text/x-python",
   "name": "python",
   "nbconvert_exporter": "python",
   "pygments_lexer": "ipython3",
   "version": "3.7.6"
  }
 },
 "nbformat": 4,
 "nbformat_minor": 2
}
